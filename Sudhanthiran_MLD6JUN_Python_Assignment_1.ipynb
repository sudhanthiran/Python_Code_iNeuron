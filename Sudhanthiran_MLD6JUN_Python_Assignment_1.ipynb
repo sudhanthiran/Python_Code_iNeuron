{
  "nbformat": 4,
  "nbformat_minor": 0,
  "metadata": {
    "colab": {
      "name": "Sudhanthiran_MLD6JUN_Python_Assignment_1.ipynb",
      "provenance": [],
      "collapsed_sections": [],
      "authorship_tag": "ABX9TyOotPWnAWakzLmkLq/is4JA",
      "include_colab_link": true
    },
    "kernelspec": {
      "name": "python3",
      "display_name": "Python 3"
    }
  },
  "cells": [
    {
      "cell_type": "markdown",
      "metadata": {
        "id": "view-in-github",
        "colab_type": "text"
      },
      "source": [
        "<a href=\"https://colab.research.google.com/github/sudhanthiran/Python_Code_iNeuron/blob/Python-Assignments/Sudhanthiran_MLD6JUN_Python_Assignment_1.ipynb\" target=\"_parent\"><img src=\"https://colab.research.google.com/assets/colab-badge.svg\" alt=\"Open In Colab\"/></a>"
      ]
    },
    {
      "cell_type": "markdown",
      "metadata": {
        "id": "Pr_Mw3wqfYAR",
        "colab_type": "text"
      },
      "source": [
        "1. Write a program which will find all such numbers which are divisible by 7 but are not a multiple of 5, between 2000 and 3200 (both included). The numbers obtained should be printed\n",
        "in a comma-separated sequence on a single line."
      ]
    },
    {
      "cell_type": "code",
      "metadata": {
        "id": "bm7JH70jfVlW",
        "colab_type": "code",
        "colab": {
          "base_uri": "https://localhost:8080/",
          "height": 54
        },
        "outputId": "0cac4073-41ce-47ba-dd68-eb3e87db850f"
      },
      "source": [
        "list_of_numbers =[]\n",
        "for i in range(2000,3201):\n",
        "  if( i % 7 ==0 and i % 5 !=0):\n",
        "    list_of_numbers.append(i)\n",
        "\n",
        "print(','.join(map(str,list_of_numbers)))"
      ],
      "execution_count": 7,
      "outputs": [
        {
          "output_type": "stream",
          "text": [
            "2002,2009,2016,2023,2037,2044,2051,2058,2072,2079,2086,2093,2107,2114,2121,2128,2142,2149,2156,2163,2177,2184,2191,2198,2212,2219,2226,2233,2247,2254,2261,2268,2282,2289,2296,2303,2317,2324,2331,2338,2352,2359,2366,2373,2387,2394,2401,2408,2422,2429,2436,2443,2457,2464,2471,2478,2492,2499,2506,2513,2527,2534,2541,2548,2562,2569,2576,2583,2597,2604,2611,2618,2632,2639,2646,2653,2667,2674,2681,2688,2702,2709,2716,2723,2737,2744,2751,2758,2772,2779,2786,2793,2807,2814,2821,2828,2842,2849,2856,2863,2877,2884,2891,2898,2912,2919,2926,2933,2947,2954,2961,2968,2982,2989,2996,3003,3017,3024,3031,3038,3052,3059,3066,3073,3087,3094,3101,3108,3122,3129,3136,3143,3157,3164,3171,3178,3192,3199\n"
          ],
          "name": "stdout"
        }
      ]
    },
    {
      "cell_type": "markdown",
      "metadata": {
        "id": "OWJB1d83eGjh",
        "colab_type": "text"
      },
      "source": [
        "2. Write a Python program to accept the user's first and last name and then getting them \n",
        "printed in the the reverse order with a space between first name and last name."
      ]
    },
    {
      "cell_type": "code",
      "metadata": {
        "id": "hePNxoKqdiT7",
        "colab_type": "code",
        "colab": {
          "base_uri": "https://localhost:8080/",
          "height": 85
        },
        "outputId": "a6db5f0c-3fd5-4ccb-a17a-2c763cf3ce46"
      },
      "source": [
        "first_name = str(input(\"Enter the First Name: \"))\n",
        "last_name = str(input(\"Enter the Last Name: \"))\n",
        "\n",
        "print(first_name[::-1] + ' '+ last_name[::-1]) #print both namin reverse\n",
        "full_name = first_name + ' ' + last_name\n",
        "print(full_name[::-1])"
      ],
      "execution_count": 3,
      "outputs": [
        {
          "output_type": "stream",
          "text": [
            "Enter the First Name: sudhanthiran\n",
            "Enter the Last Name: b\n",
            "narihtnahdus b\n",
            "b narihtnahdus\n"
          ],
          "name": "stdout"
        }
      ]
    },
    {
      "cell_type": "markdown",
      "metadata": {
        "id": "SkVavWF8j5Mg",
        "colab_type": "text"
      },
      "source": [
        "3. Write a Python program to find the volume of a sphere with diameter 12 cm.\n",
        "Formula: V=4/3 * π * r 3"
      ]
    },
    {
      "cell_type": "code",
      "metadata": {
        "id": "lEHViZRwkCVB",
        "colab_type": "code",
        "colab": {
          "base_uri": "https://localhost:8080/",
          "height": 51
        },
        "outputId": "791efde6-d63e-4ce9-981c-3e1bd9de923d"
      },
      "source": [
        "import math\n",
        "d = float(input(\"Enter the diameter of the Sphere: \"))\n",
        "volume = math.pi * math.pow((d/2),3) * (4/3)\n",
        "print(f\"The volume of the Sphere is {volume}\")"
      ],
      "execution_count": 11,
      "outputs": [
        {
          "output_type": "stream",
          "text": [
            "Enter the diameter of the Sphere: 12\n",
            "The volume of the Sphere is 904.7786842338603\n"
          ],
          "name": "stdout"
        }
      ]
    }
  ]
}