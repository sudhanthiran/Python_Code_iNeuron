{
  "nbformat": 4,
  "nbformat_minor": 0,
  "metadata": {
    "colab": {
      "name": "Sudhanthiran_MLD6JUN_Python_Assignment_1.ipynb",
      "provenance": [],
      "collapsed_sections": [],
      "authorship_tag": "ABX9TyPv5ABj6mr+bxZVn9rpUPi9",
      "include_colab_link": true
    },
    "kernelspec": {
      "name": "python3",
      "display_name": "Python 3"
    }
  },
  "cells": [
    {
      "cell_type": "markdown",
      "metadata": {
        "id": "view-in-github",
        "colab_type": "text"
      },
      "source": [
        "<a href=\"https://colab.research.google.com/github/sudhanthiran/Python_Code_iNeuron/blob/Python-Assignments/Sudhanthiran_MLD6JUN_Python_Assignment_1.ipynb\" target=\"_parent\"><img src=\"https://colab.research.google.com/assets/colab-badge.svg\" alt=\"Open In Colab\"/></a>"
      ]
    },
    {
      "cell_type": "markdown",
      "metadata": {
        "id": "OWJB1d83eGjh",
        "colab_type": "text"
      },
      "source": [
        "2. Write a Python program to accept the user's first and last name and then getting them"
      ]
    },
    {
      "cell_type": "code",
      "metadata": {
        "id": "hePNxoKqdiT7",
        "colab_type": "code",
        "colab": {}
      },
      "source": [
        ""
      ],
      "execution_count": 0,
      "outputs": []
    }
  ]
}