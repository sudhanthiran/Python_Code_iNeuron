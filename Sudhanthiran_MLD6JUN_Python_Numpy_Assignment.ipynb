{
  "nbformat": 4,
  "nbformat_minor": 0,
  "metadata": {
    "colab": {
      "name": "Sudhanthiran_MLD6JUN_Python_Numpy_Assignment.ipynb",
      "provenance": [],
      "collapsed_sections": [],
      "authorship_tag": "ABX9TyPFDwXd/EdKTcvxFCbFZvv3",
      "include_colab_link": true
    },
    "kernelspec": {
      "name": "python3",
      "display_name": "Python 3"
    }
  },
  "cells": [
    {
      "cell_type": "markdown",
      "metadata": {
        "id": "view-in-github",
        "colab_type": "text"
      },
      "source": [
        "<a href=\"https://colab.research.google.com/github/sudhanthiran/Python_Code_iNeuron/blob/Python-Assignments/Sudhanthiran_MLD6JUN_Python_Numpy_Assignment.ipynb\" target=\"_parent\"><img src=\"https://colab.research.google.com/assets/colab-badge.svg\" alt=\"Open In Colab\"/></a>"
      ]
    },
    {
      "cell_type": "markdown",
      "metadata": {
        "id": "1r6Q5XUZHR1X",
        "colab_type": "text"
      },
      "source": [
        "1.Write a function so that the columns of the output matrix are powers of the input vector."
      ]
    },
    {
      "cell_type": "code",
      "metadata": {
        "id": "ADOjNU5DjfO_",
        "colab_type": "code",
        "colab": {
          "base_uri": "https://localhost:8080/",
          "height": 153
        },
        "outputId": "962adf9c-f3a9-4847-b1cc-ef739aab7c3e"
      },
      "source": [
        "import numpy as np\n",
        "\n",
        "def matrix_power(a,N=None,flag=False):\n",
        "  return np.vander(a,N,flag)\n",
        "\n",
        "value = [1,2,3,5]\n",
        "\n",
        "print(matrix_power(value))\n",
        "\n",
        "print(matrix_power(value,None,True))"
      ],
      "execution_count": 4,
      "outputs": [
        {
          "output_type": "stream",
          "text": [
            "[[  1   1   1   1]\n",
            " [  8   4   2   1]\n",
            " [ 27   9   3   1]\n",
            " [125  25   5   1]]\n",
            "[[  1   1   1   1]\n",
            " [  1   2   4   8]\n",
            " [  1   3   9  27]\n",
            " [  1   5  25 125]]\n"
          ],
          "name": "stdout"
        }
      ]
    },
    {
      "cell_type": "markdown",
      "metadata": {
        "id": "mIUROIi5WPil",
        "colab_type": "text"
      },
      "source": [
        "2. Write a function to find moving average in an array over a window:\n",
        "Test it over [3, 5, 7, 2, 8, 10, 11, 65, 72, 81, 99, 100, 150] and window of 3."
      ]
    },
    {
      "cell_type": "code",
      "metadata": {
        "id": "opTd8qSBWReq",
        "colab_type": "code",
        "colab": {
          "base_uri": "https://localhost:8080/",
          "height": 204
        },
        "outputId": "c0463010-91f2-45ac-946e-bf7f2fb3414b"
      },
      "source": [
        "def rollingWindowAverage(a,k):\n",
        "  n = len(a)\n",
        "  avg = []\n",
        "  for i in range(0,n-k+1,1):\n",
        "    #temp = (a[i] + a[i+1] + a[i+2])//3\n",
        "    temp = sum_window(a[i:i+k])//k\n",
        "    avg.append(temp)\n",
        "  return avg\n",
        "def sum_window(a):\n",
        "  return sum(a)\n",
        "\n",
        "value_list = [3, 5, 7, 2, 8, 10, 11, 65, 72, 81, 99, 100, 150]\n",
        "window = 3\n",
        "\n",
        "b = rollingWindowAverage(value_list,window)\n",
        "\n",
        "for i in b:\n",
        "  print(i)"
      ],
      "execution_count": null,
      "outputs": [
        {
          "output_type": "stream",
          "text": [
            "5\n",
            "4\n",
            "5\n",
            "6\n",
            "9\n",
            "28\n",
            "49\n",
            "72\n",
            "84\n",
            "93\n",
            "116\n"
          ],
          "name": "stdout"
        }
      ]
    }
  ]
}