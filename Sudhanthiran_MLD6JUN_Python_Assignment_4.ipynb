{
  "nbformat": 4,
  "nbformat_minor": 0,
  "metadata": {
    "colab": {
      "name": "Sudhanthiran_MLD6JUN_Python_Assignment_4.ipynb",
      "provenance": [],
      "collapsed_sections": [],
      "authorship_tag": "ABX9TyMJXJNuixNuK/i8snN+PilP",
      "include_colab_link": true
    },
    "kernelspec": {
      "name": "python3",
      "display_name": "Python 3"
    }
  },
  "cells": [
    {
      "cell_type": "markdown",
      "metadata": {
        "id": "view-in-github",
        "colab_type": "text"
      },
      "source": [
        "<a href=\"https://colab.research.google.com/github/sudhanthiran/Python_Code_iNeuron/blob/Python-Assignments/Sudhanthiran_MLD6JUN_Python_Assignment_4.ipynb\" target=\"_parent\"><img src=\"https://colab.research.google.com/assets/colab-badge.svg\" alt=\"Open In Colab\"/></a>"
      ]
    },
    {
      "cell_type": "markdown",
      "metadata": {
        "id": "DzbeahJsx3yr",
        "colab_type": "text"
      },
      "source": [
        "1.1 Write a Python Program(with class concepts) to find the area of the triangle using the below formula.\n",
        "\n",
        "area = (s*(s-a)*(s-b)*(s-c)) ** 0.5\n",
        "\n",
        "Function to take the length of the sides of triangle from user should be defined in the parent class and function to calculate the area should be defined in subclass."
      ]
    },
    {
      "cell_type": "code",
      "metadata": {
        "id": "CuRlZtAkxvTn",
        "colab_type": "code",
        "colab": {
          "base_uri": "https://localhost:8080/",
          "height": 153
        },
        "outputId": "0b437721-26ee-4ab7-902c-aee4733f1445"
      },
      "source": [
        "class triangle:\n",
        "  def get_sides(self):\n",
        "    a= float(input(\"Enter the first side(a): \"))\n",
        "    b= float(input(\"Enter the first side(b): \"))\n",
        "    c= float(input(\"Enter the first side(c): \"))\n",
        "    self.a = a\n",
        "    self.b = b\n",
        "    self.c = c\n",
        "\n",
        "class area(triangle):\n",
        "  def area_using_sides(self):\n",
        "    s= (float)(self.a+self.b+self.c)/2\n",
        "    tot_area = (s*(s-self.a)*(s-self.b)*(s-self.c)) ** 0.5\n",
        "    return tot_area\n",
        "\n",
        "first_triangle = area()\n",
        "first_triangle.get_sides()\n",
        "\n",
        "print(first_triangle.area_using_sides())\n"
      ],
      "execution_count": 7,
      "outputs": [
        {
          "output_type": "stream",
          "text": [
            "Enter the first side(a): 3\n",
            "Enter the first side(b): 4\n",
            "Enter the first side(c): 5\n",
            "3.0\n",
            "4.0\n",
            "5.0\n",
            "6.0\n",
            "6.0\n"
          ],
          "name": "stdout"
        }
      ]
    }
  ]
}