{
  "nbformat": 4,
  "nbformat_minor": 0,
  "metadata": {
    "colab": {
      "name": "Sudhanthiran_MLD6JUN_Python_Assignment_4.ipynb",
      "provenance": [],
      "collapsed_sections": [],
      "authorship_tag": "ABX9TyPRWkEPkJKsJIQyqJzUsDyH",
      "include_colab_link": true
    },
    "kernelspec": {
      "name": "python3",
      "display_name": "Python 3"
    }
  },
  "cells": [
    {
      "cell_type": "markdown",
      "metadata": {
        "id": "view-in-github",
        "colab_type": "text"
      },
      "source": [
        "<a href=\"https://colab.research.google.com/github/sudhanthiran/Python_Code_iNeuron/blob/Python-Assignments/Sudhanthiran_MLD6JUN_Python_Assignment_4.ipynb\" target=\"_parent\"><img src=\"https://colab.research.google.com/assets/colab-badge.svg\" alt=\"Open In Colab\"/></a>"
      ]
    },
    {
      "cell_type": "markdown",
      "metadata": {
        "id": "DzbeahJsx3yr",
        "colab_type": "text"
      },
      "source": [
        "1.1 Write a Python Program(with class concepts) to find the area of the triangle using the below formula.\n",
        "\n",
        "area = (s*(s-a)*(s-b)*(s-c)) ** 0.5\n",
        "\n",
        "Function to take the length of the sides of triangle from user should be defined in the parent class and function to calculate the area should be defined in subclass."
      ]
    },
    {
      "cell_type": "code",
      "metadata": {
        "id": "CuRlZtAkxvTn",
        "colab_type": "code",
        "colab": {
          "base_uri": "https://localhost:8080/",
          "height": 85
        },
        "outputId": "cf5a3d28-2907-4cd9-a207-4b7e45dc6a10"
      },
      "source": [
        "class triangle:\n",
        "  def get_sides(self):\n",
        "    a= float(input(\"Enter the first side(a): \"))\n",
        "    b= float(input(\"Enter the first side(b): \"))\n",
        "    c= float(input(\"Enter the first side(c): \"))\n",
        "    self.a = a\n",
        "    self.b = b\n",
        "    self.c = c\n",
        "\n",
        "class area(triangle):\n",
        "  def area_using_sides(self):\n",
        "    s= (float)(self.a+self.b+self.c)/2\n",
        "    tot_area = (s*(s-self.a)*(s-self.b)*(s-self.c)) ** 0.5\n",
        "    return tot_area\n",
        "\n",
        "first_triangle = area()\n",
        "first_triangle.get_sides()\n",
        "\n",
        "print(first_triangle.area_using_sides())\n"
      ],
      "execution_count": null,
      "outputs": [
        {
          "output_type": "stream",
          "text": [
            "Enter the first side(a): 3\n",
            "Enter the first side(b): 4\n",
            "Enter the first side(c): 5\n",
            "6.0\n"
          ],
          "name": "stdout"
        }
      ]
    },
    {
      "cell_type": "markdown",
      "metadata": {
        "id": "gNqXPjld8Ua4",
        "colab_type": "text"
      },
      "source": [
        "1.2 Write a function filter_long_words() that takes a list of words and an integer n and returns\n",
        "the list of words that are longer than n."
      ]
    },
    {
      "cell_type": "code",
      "metadata": {
        "id": "XDqwtoz08VuS",
        "colab_type": "code",
        "colab": {
          "base_uri": "https://localhost:8080/",
          "height": 51
        },
        "outputId": "9614b351-01dc-45d1-aa74-12881779539d"
      },
      "source": [
        "def filter_long_words(list_variable,n):\n",
        "  for i in list_variable:\n",
        "    if (len(i) > n):\n",
        "      yield i\n",
        "      \n",
        "def filter_long_words2(list_variable,n):\n",
        "  return [i for i in list_variable if len(i) > n]\n",
        "\n",
        "list_a = [\"ab\",\"cde\",\"erty\"]\n",
        "list_b = filter_long_words(list_a,2)\n",
        "for i in list_b:\n",
        "  print(i)"
      ],
      "execution_count": 9,
      "outputs": [
        {
          "output_type": "stream",
          "text": [
            "cde\n",
            "erty\n"
          ],
          "name": "stdout"
        }
      ]
    },
    {
      "cell_type": "markdown",
      "metadata": {
        "id": "eSnNbhavrVp0",
        "colab_type": "text"
      },
      "source": [
        "2.1 Write a Python program using function concept that maps list of words into a list of integers\n",
        "representing the lengths of the corresponding words.\n",
        "\n",
        "Hint: If a list [ ab,cde,erty] is passed on to the python function output should come as [2,3,4]\n",
        "Here 2,3 and 4 are the lengths of the words in the list."
      ]
    },
    {
      "cell_type": "code",
      "metadata": {
        "id": "Ljl8eYu1puv6",
        "colab_type": "code",
        "colab": {
          "base_uri": "https://localhost:8080/",
          "height": 34
        },
        "outputId": "871a5a9f-6a37-4ba6-abb2-cc49201ee461"
      },
      "source": [
        "def return_len(list_a):\n",
        "  return [len(i) for i in list_a]\n",
        "\n",
        "list_a1 = [\"ab\",\"cde\",\"erty\"]\n",
        "list_b1 = return_len(list_a1)\n",
        "list_b1"
      ],
      "execution_count": 11,
      "outputs": [
        {
          "output_type": "execute_result",
          "data": {
            "text/plain": [
              "[2, 3, 4]"
            ]
          },
          "metadata": {
            "tags": []
          },
          "execution_count": 11
        }
      ]
    },
    {
      "cell_type": "markdown",
      "metadata": {
        "id": "1DS5jDObr8_X",
        "colab_type": "text"
      },
      "source": [
        "Write a Python function which takes a character (i.e. a string of length 1) and returns True if\n",
        "it is a vowel, False otherwise."
      ]
    },
    {
      "cell_type": "code",
      "metadata": {
        "id": "25493hIIrxew",
        "colab_type": "code",
        "colab": {
          "base_uri": "https://localhost:8080/",
          "height": 102
        },
        "outputId": "b2e83e10-c70c-467f-93b4-da1e4f407285"
      },
      "source": [
        "def is_vowel(b):\n",
        "  if(b in ['a','e','i','o','u'] and len(b) == 1):\n",
        "    return True\n",
        "  else:\n",
        "    return False\n",
        "\n",
        "print(is_vowel('s'))\n",
        "print(is_vowel('a'))\n",
        "print(is_vowel('d'))\n",
        "print(is_vowel('u'))\n",
        "print(is_vowel('ae'))"
      ],
      "execution_count": 15,
      "outputs": [
        {
          "output_type": "stream",
          "text": [
            "False\n",
            "True\n",
            "False\n",
            "True\n",
            "False\n"
          ],
          "name": "stdout"
        }
      ]
    },
    {
      "cell_type": "code",
      "metadata": {
        "id": "43oJ8vm5sS6e",
        "colab_type": "code",
        "colab": {}
      },
      "source": [
        ""
      ],
      "execution_count": null,
      "outputs": []
    }
  ]
}