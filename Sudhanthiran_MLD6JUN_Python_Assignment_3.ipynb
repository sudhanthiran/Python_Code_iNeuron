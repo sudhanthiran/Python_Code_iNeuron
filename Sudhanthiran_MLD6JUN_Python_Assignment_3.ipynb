{
  "nbformat": 4,
  "nbformat_minor": 0,
  "metadata": {
    "colab": {
      "name": "Sudhanthiran_MLD6JUN_Python_Assignment_3",
      "provenance": [],
      "collapsed_sections": [],
      "mount_file_id": "1t2rJc3yLoHsmk489DKoTT3QZu_-AH763",
      "authorship_tag": "ABX9TyM3nS9bCSH8Omi7xHAQ80Cq",
      "include_colab_link": true
    },
    "kernelspec": {
      "name": "python3",
      "display_name": "Python 3"
    }
  },
  "cells": [
    {
      "cell_type": "markdown",
      "metadata": {
        "id": "view-in-github",
        "colab_type": "text"
      },
      "source": [
        "<a href=\"https://colab.research.google.com/github/sudhanthiran/Python_Code_iNeuron/blob/Python-Assignments/Sudhanthiran_MLD6JUN_Python_Assignment_3.ipynb\" target=\"_parent\"><img src=\"https://colab.research.google.com/assets/colab-badge.svg\" alt=\"Open In Colab\"/></a>"
      ]
    },
    {
      "cell_type": "markdown",
      "metadata": {
        "id": "FPi5k8dEjmtD",
        "colab_type": "text"
      },
      "source": [
        "1.1 Write a Python Program to implement your own myreduce() function which works exactly\n",
        "like Python's built-in function reduce()"
      ]
    },
    {
      "cell_type": "code",
      "metadata": {
        "id": "xZSV2DgNjru6",
        "colab_type": "code",
        "colab": {
          "base_uri": "https://localhost:8080/",
          "height": 85
        },
        "outputId": "34acb793-b98f-4881-c1f9-bc43034e7df3"
      },
      "source": [
        "import operator\n",
        "\n",
        "def sum(a,b):\n",
        "  return a + b\n",
        "\n",
        "def sub(a,b):\n",
        "  return a - b\n",
        "\n",
        "def myreduce(self, object_iter):\n",
        "  obj = iter(object_iter)\n",
        "  elem_value = next(obj)\n",
        "  for elements in obj:\n",
        "    elem_value = self(elem_value,elements)\n",
        "  \n",
        "  return elem_value\n",
        "\n",
        "\n",
        "print(myreduce(sum, [1, 2, 3, 4, 5]))\n",
        "print(myreduce(sub, [1, 2, 3, 4, 5]))\n",
        "\n",
        "print(myreduce(operator.add, [1, 2, 3, 4, 5]))\n",
        "print(myreduce(lambda a,b : a+b, [1, 2, 3, 4, 5]))\n"
      ],
      "execution_count": 48,
      "outputs": [
        {
          "output_type": "stream",
          "text": [
            "15\n",
            "-13\n",
            "15\n",
            "15\n"
          ],
          "name": "stdout"
        }
      ]
    },
    {
      "cell_type": "markdown",
      "metadata": {
        "id": "qv4V1k8kjqT6",
        "colab_type": "text"
      },
      "source": [
        "1.2 Write a Python program to implement your own myfilter() function which works exactly\n",
        "like Python's built-in function filter()"
      ]
    },
    {
      "cell_type": "code",
      "metadata": {
        "id": "ipY4jAR_jmQs",
        "colab_type": "code",
        "colab": {
          "base_uri": "https://localhost:8080/",
          "height": 51
        },
        "outputId": "d096a8ae-4fff-4df7-a0fa-2a4f6acfae53"
      },
      "source": [
        "import operator\n",
        "\n",
        "def is_even(num):\n",
        "  if (num % 2 == 0):\n",
        "    return True\n",
        "  else:\n",
        "    return False\n",
        "\n",
        "\n",
        "def myfilter(self, object_iter):\n",
        "  obj = iter(object_iter)\n",
        "  #elem_value = next(obj)\n",
        "  for elements in obj:\n",
        "    flag = self(elements)\n",
        "    if (flag == True):\n",
        "      yield elements\n",
        "\n",
        "\n",
        "\n",
        "filtered = myfilter(is_even, [1, 2, 3, 4, 5])\n",
        "\n",
        "for i in filtered:\n",
        "  print(i)"
      ],
      "execution_count": 54,
      "outputs": [
        {
          "output_type": "stream",
          "text": [
            "2\n",
            "4\n"
          ],
          "name": "stdout"
        }
      ]
    },
    {
      "cell_type": "markdown",
      "metadata": {
        "id": "1EVJlwOBxV6f",
        "colab_type": "text"
      },
      "source": [
        "2. Implement List comprehensions to produce the following lists.\n",
        "Write List comprehensions to produce the following Lists"
      ]
    },
    {
      "cell_type": "code",
      "metadata": {
        "colab_type": "code",
        "id": "8NrMey_B3RoY",
        "colab": {
          "base_uri": "https://localhost:8080/",
          "height": 34
        },
        "outputId": "e68ea202-9020-4305-a2c1-5c91bb626481"
      },
      "source": [
        "\"\"\"\n",
        "Pattern 1\n",
        "['x', 'xx', 'xxx', 'xxxx', 'y', 'yy', 'yyy', 'yyyy', 'z', 'zz', 'zzz', 'zzzz']\n",
        "\"\"\"\n",
        "pattern1 = [ x*i for x in ('x','y','z') for i in range(1,5)]\n",
        "pattern1\n",
        "\n"
      ],
      "execution_count": 10,
      "outputs": [
        {
          "output_type": "execute_result",
          "data": {
            "text/plain": [
              "['x', 'xx', 'xxx', 'xxxx', 'y', 'yy', 'yyy', 'yyyy', 'z', 'zz', 'zzz', 'zzzz']"
            ]
          },
          "metadata": {
            "tags": []
          },
          "execution_count": 10
        }
      ]
    },
    {
      "cell_type": "code",
      "metadata": {
        "id": "fNgVHJc4sZ01",
        "colab_type": "code",
        "colab": {
          "base_uri": "https://localhost:8080/",
          "height": 34
        },
        "outputId": "779ce76a-e9c1-4622-9d64-a18375df07f8"
      },
      "source": [
        "\"\"\"\n",
        "Pattern 2\n",
        "['x', 'y', 'z', 'xx', 'yy', 'zz', 'xxx', 'yyy', 'zzz', 'xxxx', 'yyyy', 'zzzz']\n",
        "\"\"\"\n",
        "pattern2 = [ x*i for i in range(1,5) for x in ('x','y','z')]\n",
        "pattern2\n",
        "\n"
      ],
      "execution_count": 9,
      "outputs": [
        {
          "output_type": "execute_result",
          "data": {
            "text/plain": [
              "['x', 'y', 'z', 'xx', 'yy', 'zz', 'xxx', 'yyy', 'zzz', 'xxxx', 'yyyy', 'zzzz']"
            ]
          },
          "metadata": {
            "tags": []
          },
          "execution_count": 9
        }
      ]
    },
    {
      "cell_type": "code",
      "metadata": {
        "id": "N9ecpQr53Kkh",
        "colab_type": "code",
        "colab": {
          "base_uri": "https://localhost:8080/",
          "height": 34
        },
        "outputId": "b42c1018-84df-40b8-c23a-d8332778292e"
      },
      "source": [
        "\"\"\"\n",
        "Pattern 3.1\n",
        "[[2], [3], [4], [3], [4], [5], [4], [5], [6]]\n",
        "\n",
        "my understanding is that the list has fixed rotation cycle(3) starting with 2\n",
        "\"\"\"\n",
        "\n",
        "pattern3_1 = [[j+i+2] for j in range (0,3) for i in range(0,3)]\n",
        "pattern3_1\n"
      ],
      "execution_count": 37,
      "outputs": [
        {
          "output_type": "execute_result",
          "data": {
            "text/plain": [
              "[[2], [3], [4], [3], [4], [5], [4], [5], [6]]"
            ]
          },
          "metadata": {
            "tags": []
          },
          "execution_count": 37
        }
      ]
    },
    {
      "cell_type": "code",
      "metadata": {
        "colab_type": "code",
        "id": "uJdpX7L-3e2h",
        "colab": {
          "base_uri": "https://localhost:8080/",
          "height": 34
        },
        "outputId": "427c493a-c776-403f-9943-653ab5aa1d11"
      },
      "source": [
        "\"\"\"\n",
        "Pattern 3.2\n",
        "[[2, 3, 4, 5], [3, 4, 5, 6],[4, 5, 6, 7], [5, 6, 7, 8]]\n",
        "\n",
        "my understanding is that the list has fixed rotation cycle(3) starting with 2\n",
        "\"\"\"\n",
        "\n",
        "pattern3_2 = [[j+i+2 for i in range(0,4)] for j in range (0,4)]\n",
        "pattern3_2"
      ],
      "execution_count": 31,
      "outputs": [
        {
          "output_type": "execute_result",
          "data": {
            "text/plain": [
              "[[2, 3, 4, 5], [3, 4, 5, 6], [4, 5, 6, 7], [5, 6, 7, 8]]"
            ]
          },
          "metadata": {
            "tags": []
          },
          "execution_count": 31
        }
      ]
    },
    {
      "cell_type": "code",
      "metadata": {
        "colab_type": "code",
        "id": "vx7sXT3a3n3D",
        "colab": {
          "base_uri": "https://localhost:8080/",
          "height": 34
        },
        "outputId": "5b398d2f-89d5-4339-ae0d-5679a3ffa39e"
      },
      "source": [
        "\"\"\"\n",
        "Pattern 4\n",
        "[(1, 1), (2, 1), (3, 1), (1, 2), (2, 2), (3, 2), (1, 3), (2, 3), (3, 3)]\n",
        "\n",
        "my understanding is that the tuple has fixed rotation cycle(3) starting with 2\n",
        "\"\"\"\n",
        "\n",
        "pattern4 = [(j,i) for i in range(1,4) for j in range (1,4)]\n",
        "pattern4"
      ],
      "execution_count": 39,
      "outputs": [
        {
          "output_type": "execute_result",
          "data": {
            "text/plain": [
              "[(1, 1), (2, 1), (3, 1), (1, 2), (2, 2), (3, 2), (1, 3), (2, 3), (3, 3)]"
            ]
          },
          "metadata": {
            "tags": []
          },
          "execution_count": 39
        }
      ]
    }
  ]
}