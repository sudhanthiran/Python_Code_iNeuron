{
  "nbformat": 4,
  "nbformat_minor": 0,
  "metadata": {
    "colab": {
      "name": "Sudhanthiran_MLD6JUN_Python_Assignment_2.ipynb",
      "provenance": [],
      "collapsed_sections": [],
      "authorship_tag": "ABX9TyP1u348fjwlrS08p8/vmBKk",
      "include_colab_link": true
    },
    "kernelspec": {
      "name": "python3",
      "display_name": "Python 3"
    }
  },
  "cells": [
    {
      "cell_type": "markdown",
      "metadata": {
        "id": "view-in-github",
        "colab_type": "text"
      },
      "source": [
        "<a href=\"https://colab.research.google.com/github/sudhanthiran/Python_Code_iNeuron/blob/Python-Assignments/Sudhanthiran_MLD6JUN_Python_Assignment_2.ipynb\" target=\"_parent\"><img src=\"https://colab.research.google.com/assets/colab-badge.svg\" alt=\"Open In Colab\"/></a>"
      ]
    },
    {
      "cell_type": "markdown",
      "metadata": {
        "id": "XJbEk-D5oanY",
        "colab_type": "text"
      },
      "source": [
        "2. Write a Python program to reverse a word after accepting the input from the user."
      ]
    },
    {
      "cell_type": "code",
      "metadata": {
        "id": "si46eFZNoSxs",
        "colab_type": "code",
        "colab": {
          "base_uri": "https://localhost:8080/",
          "height": 51
        },
        "outputId": "2e52cc77-4b79-4084-a487-80b03a80f2d7"
      },
      "source": [
        "Name = str(input(\"Enter the name: \"))\n",
        "print(Name[::-1])"
      ],
      "execution_count": 1,
      "outputs": [
        {
          "output_type": "stream",
          "text": [
            "Enter the name: sudhanthiran\n",
            "narihtnahdus\n"
          ],
          "name": "stdout"
        }
      ]
    },
    {
      "cell_type": "markdown",
      "metadata": {
        "id": "vnAOeiKmop1p",
        "colab_type": "text"
      },
      "source": [
        "1. Create the below pattern using nested for loop in Python.\n",
        "\n",
        "Right sided Pyramid\n"
      ]
    },
    {
      "cell_type": "code",
      "metadata": {
        "id": "jJWNrrtyow80",
        "colab_type": "code",
        "colab": {
          "base_uri": "https://localhost:8080/",
          "height": 255
        },
        "outputId": "285f110a-8877-4b83-eec1-0a45635f98e0"
      },
      "source": [
        "def add_star(n):\n",
        "  star = '*'\n",
        "  for i in range(1,n):\n",
        "    star = star + ' *'\n",
        "  return star\n",
        "\n",
        "n = int(input(\"Enter the height of the pyramid\"))\n",
        "for i in range(1,n+1):\n",
        "  text = add_star(i)\n",
        "  print(text)\n",
        "\n",
        "for i in range(n+1,0,-1):\n",
        "  text = add_star(i)\n",
        "  print(text)\n",
        "\n"
      ],
      "execution_count": 13,
      "outputs": [
        {
          "output_type": "stream",
          "text": [
            "Enter the height of the pyramid6\n",
            "*\n",
            "* *\n",
            "* * *\n",
            "* * * *\n",
            "* * * * *\n",
            "* * * * * *\n",
            "* * * * * * *\n",
            "* * * * * *\n",
            "* * * * *\n",
            "* * * *\n",
            "* * *\n",
            "* *\n",
            "*\n"
          ],
          "name": "stdout"
        }
      ]
    }
  ]
}